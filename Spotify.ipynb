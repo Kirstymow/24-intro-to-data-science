{
 "cells": [
  {
   "cell_type": "code",
   "execution_count": 3,
   "metadata": {},
   "outputs": [
    {
     "name": "stdout",
     "output_type": "stream",
     "text": [
      "Requirement already satisfied: spotipy in /Library/Frameworks/Python.framework/Versions/3.11/lib/python3.11/site-packages (2.25.0)\n",
      "Requirement already satisfied: pandas in /Library/Frameworks/Python.framework/Versions/3.11/lib/python3.11/site-packages (2.2.3)\n",
      "Requirement already satisfied: matplotlib in /Library/Frameworks/Python.framework/Versions/3.11/lib/python3.11/site-packages (3.10.0)\n",
      "Requirement already satisfied: redis>=3.5.3 in /Library/Frameworks/Python.framework/Versions/3.11/lib/python3.11/site-packages (from spotipy) (5.2.1)\n",
      "Requirement already satisfied: requests>=2.25.0 in /Library/Frameworks/Python.framework/Versions/3.11/lib/python3.11/site-packages (from spotipy) (2.32.3)\n",
      "Requirement already satisfied: urllib3>=1.26.0 in /Library/Frameworks/Python.framework/Versions/3.11/lib/python3.11/site-packages (from spotipy) (2.3.0)\n",
      "Requirement already satisfied: numpy>=1.23.2 in /Library/Frameworks/Python.framework/Versions/3.11/lib/python3.11/site-packages (from pandas) (2.2.1)\n",
      "Requirement already satisfied: python-dateutil>=2.8.2 in /Library/Frameworks/Python.framework/Versions/3.11/lib/python3.11/site-packages (from pandas) (2.9.0.post0)\n",
      "Requirement already satisfied: pytz>=2020.1 in /Library/Frameworks/Python.framework/Versions/3.11/lib/python3.11/site-packages (from pandas) (2024.2)\n",
      "Requirement already satisfied: tzdata>=2022.7 in /Library/Frameworks/Python.framework/Versions/3.11/lib/python3.11/site-packages (from pandas) (2024.2)\n",
      "Requirement already satisfied: contourpy>=1.0.1 in /Library/Frameworks/Python.framework/Versions/3.11/lib/python3.11/site-packages (from matplotlib) (1.3.1)\n",
      "Requirement already satisfied: cycler>=0.10 in /Library/Frameworks/Python.framework/Versions/3.11/lib/python3.11/site-packages (from matplotlib) (0.12.1)\n",
      "Requirement already satisfied: fonttools>=4.22.0 in /Library/Frameworks/Python.framework/Versions/3.11/lib/python3.11/site-packages (from matplotlib) (4.55.3)\n",
      "Requirement already satisfied: kiwisolver>=1.3.1 in /Library/Frameworks/Python.framework/Versions/3.11/lib/python3.11/site-packages (from matplotlib) (1.4.8)\n",
      "Requirement already satisfied: packaging>=20.0 in /Library/Frameworks/Python.framework/Versions/3.11/lib/python3.11/site-packages (from matplotlib) (24.2)\n",
      "Requirement already satisfied: pillow>=8 in /Library/Frameworks/Python.framework/Versions/3.11/lib/python3.11/site-packages (from matplotlib) (11.1.0)\n",
      "Requirement already satisfied: pyparsing>=2.3.1 in /Library/Frameworks/Python.framework/Versions/3.11/lib/python3.11/site-packages (from matplotlib) (3.2.1)\n",
      "Requirement already satisfied: six>=1.5 in /Library/Frameworks/Python.framework/Versions/3.11/lib/python3.11/site-packages (from python-dateutil>=2.8.2->pandas) (1.17.0)\n",
      "Requirement already satisfied: charset-normalizer<4,>=2 in /Library/Frameworks/Python.framework/Versions/3.11/lib/python3.11/site-packages (from requests>=2.25.0->spotipy) (3.4.1)\n",
      "Requirement already satisfied: idna<4,>=2.5 in /Library/Frameworks/Python.framework/Versions/3.11/lib/python3.11/site-packages (from requests>=2.25.0->spotipy) (3.10)\n",
      "Requirement already satisfied: certifi>=2017.4.17 in /Library/Frameworks/Python.framework/Versions/3.11/lib/python3.11/site-packages (from requests>=2.25.0->spotipy) (2024.12.14)\n",
      "\n",
      "\u001b[1m[\u001b[0m\u001b[34;49mnotice\u001b[0m\u001b[1;39;49m]\u001b[0m\u001b[39;49m A new release of pip is available: \u001b[0m\u001b[31;49m24.3.1\u001b[0m\u001b[39;49m -> \u001b[0m\u001b[32;49m25.0.1\u001b[0m\n",
      "\u001b[1m[\u001b[0m\u001b[34;49mnotice\u001b[0m\u001b[1;39;49m]\u001b[0m\u001b[39;49m To update, run: \u001b[0m\u001b[32;49mpython3.11 -m pip install --upgrade pip\u001b[0m\n"
     ]
    }
   ],
   "source": [
    "!pip3 install spotipy pandas matplotlib "
   ]
  },
  {
   "cell_type": "code",
   "execution_count": 2,
   "metadata": {},
   "outputs": [],
   "source": [
    "import spotipy\n",
    "from spotipy.oauth2 import SpotifyClientCredentials\n",
    "import pandas as pd\n",
    "import matplotlib.pyplot as plt\n"
   ]
  },
  {
   "cell_type": "code",
   "execution_count": 3,
   "metadata": {},
   "outputs": [],
   "source": [
    "SPOTIPY_CLIENT_ID = \"0f00975364f94920a8f4a74f76c8689e\"\n",
    "SPOTIPY_CLIENT_SECRET = \"d65a717307b24808b4ec69e45a1ca809\"\n",
    "\n",
    "client_credentials_manager = SpotifyClientCredentials(client_id=SPOTIPY_CLIENT_ID,\n",
    "                                                      client_secret=SPOTIPY_CLIENT_SECRET)\n",
    "sp = spotipy.Spotify(client_credentials_manager=client_credentials_manager)"
   ]
  },
  {
   "cell_type": "code",
   "execution_count": 22,
   "metadata": {},
   "outputs": [],
   "source": [
    "artist_name = []\n",
    "track_name = []\n",
    "popularity = []\n",
    "track_id = []\n",
    "images = []\n",
    "\n",
    "for i in range(0, 1000, 50):\n",
    "    track_results = sp.search(q='year:2024', type='track', limit=50, offset=i)\n",
    "    for t in track_results['tracks']['items']:\n",
    "        artist_name.append(t['artists'][0]['name'])\n",
    "        track_name.append(t['name'])\n",
    "        track_id.append(t['id'])\n",
    "        popularity.append(t['popularity'])\n",
    "        images.append(t['album']['images'][0]['url'])"
   ]
  },
  {
   "cell_type": "code",
   "execution_count": 23,
   "metadata": {},
   "outputs": [],
   "source": [
    "artist_name = []\n",
    "track_name = []\n",
    "popularity = []\n",
    "track_id = []\n",
    "images = []\n",
    "\n",
    "for i in range(0, 1000, 50):\n",
    "    track_results = sp.search(q='year:2024', type='track', limit=50, offset=i)\n",
    "    for t in track_results['tracks']['items']:\n",
    "        artist_name.append(t['artists'][0]['name'])\n",
    "        track_name.append(t['name'])\n",
    "        track_id.append(t['id'])\n",
    "        popularity.append(t['popularity'])\n",
    "        images.append(t['album']['images'][0]['url'])\n",
    "        "
   ]
  },
  {
   "cell_type": "code",
   "execution_count": 24,
   "metadata": {},
   "outputs": [
    {
     "data": {
      "text/html": [
       "<div>\n",
       "<style scoped>\n",
       "    .dataframe tbody tr th:only-of-type {\n",
       "        vertical-align: middle;\n",
       "    }\n",
       "\n",
       "    .dataframe tbody tr th {\n",
       "        vertical-align: top;\n",
       "    }\n",
       "\n",
       "    .dataframe thead th {\n",
       "        text-align: right;\n",
       "    }\n",
       "</style>\n",
       "<table border=\"1\" class=\"dataframe\">\n",
       "  <thead>\n",
       "    <tr style=\"text-align: right;\">\n",
       "      <th></th>\n",
       "      <th>Artist</th>\n",
       "      <th>Track</th>\n",
       "      <th>Track ID</th>\n",
       "      <th>Popularity</th>\n",
       "      <th>Image URL</th>\n",
       "    </tr>\n",
       "  </thead>\n",
       "  <tbody>\n",
       "    <tr>\n",
       "      <th>0</th>\n",
       "      <td>Lady Gaga</td>\n",
       "      <td>Die With A Smile</td>\n",
       "      <td>2plbrEY59IikOBgBGLjaoe</td>\n",
       "      <td>99</td>\n",
       "      <td>https://i.scdn.co/image/ab67616d0000b27382ea2e...</td>\n",
       "    </tr>\n",
       "    <tr>\n",
       "      <th>1</th>\n",
       "      <td>Billie Eilish</td>\n",
       "      <td>BIRDS OF A FEATHER</td>\n",
       "      <td>6dOtVTDdiauQNBQEDOtlAB</td>\n",
       "      <td>96</td>\n",
       "      <td>https://i.scdn.co/image/ab67616d0000b27371d62e...</td>\n",
       "    </tr>\n",
       "    <tr>\n",
       "      <th>2</th>\n",
       "      <td>Gracie Abrams</td>\n",
       "      <td>That’s So True</td>\n",
       "      <td>7ne4VBA60CxGM75vw0EYad</td>\n",
       "      <td>95</td>\n",
       "      <td>https://i.scdn.co/image/ab67616d0000b2731dac36...</td>\n",
       "    </tr>\n",
       "    <tr>\n",
       "      <th>3</th>\n",
       "      <td>ROSÉ</td>\n",
       "      <td>APT.</td>\n",
       "      <td>5vNRhkKd0yEAg8suGBpjeY</td>\n",
       "      <td>95</td>\n",
       "      <td>https://i.scdn.co/image/ab67616d0000b27336032c...</td>\n",
       "    </tr>\n",
       "    <tr>\n",
       "      <th>4</th>\n",
       "      <td>Billie Eilish</td>\n",
       "      <td>WILDFLOWER</td>\n",
       "      <td>3QaPy1KgI7nu9FJEQUgn6h</td>\n",
       "      <td>93</td>\n",
       "      <td>https://i.scdn.co/image/ab67616d0000b27371d62e...</td>\n",
       "    </tr>\n",
       "    <tr>\n",
       "      <th>5</th>\n",
       "      <td>Gigi Perez</td>\n",
       "      <td>Sailor Song</td>\n",
       "      <td>2262bWmqomIaJXwCRHr13j</td>\n",
       "      <td>93</td>\n",
       "      <td>https://i.scdn.co/image/ab67616d0000b273e6065f...</td>\n",
       "    </tr>\n",
       "    <tr>\n",
       "      <th>6</th>\n",
       "      <td>The Weeknd</td>\n",
       "      <td>Timeless (feat. Playboi Carti)</td>\n",
       "      <td>1Es7AUAhQvapIcoh3qMKDL</td>\n",
       "      <td>92</td>\n",
       "      <td>https://i.scdn.co/image/ab67616d0000b27394f662...</td>\n",
       "    </tr>\n",
       "    <tr>\n",
       "      <th>7</th>\n",
       "      <td>Chappell Roan</td>\n",
       "      <td>Good Luck, Babe!</td>\n",
       "      <td>0WbMK4wrZ1wFSty9F7FCgu</td>\n",
       "      <td>92</td>\n",
       "      <td>https://i.scdn.co/image/ab67616d0000b27391b4bc...</td>\n",
       "    </tr>\n",
       "    <tr>\n",
       "      <th>8</th>\n",
       "      <td>ROSÉ</td>\n",
       "      <td>APT.</td>\n",
       "      <td>4wJ5Qq0jBN4ajy7ouZIV1c</td>\n",
       "      <td>91</td>\n",
       "      <td>https://i.scdn.co/image/ab67616d0000b2735074bd...</td>\n",
       "    </tr>\n",
       "    <tr>\n",
       "      <th>9</th>\n",
       "      <td>KAROL G</td>\n",
       "      <td>Si Antes Te Hubiera Conocido</td>\n",
       "      <td>6WatFBLVB0x077xWeoVc2k</td>\n",
       "      <td>91</td>\n",
       "      <td>https://i.scdn.co/image/ab67616d0000b273491678...</td>\n",
       "    </tr>\n",
       "  </tbody>\n",
       "</table>\n",
       "</div>"
      ],
      "text/plain": [
       "          Artist                           Track                Track ID  \\\n",
       "0      Lady Gaga                Die With A Smile  2plbrEY59IikOBgBGLjaoe   \n",
       "1  Billie Eilish              BIRDS OF A FEATHER  6dOtVTDdiauQNBQEDOtlAB   \n",
       "2  Gracie Abrams                  That’s So True  7ne4VBA60CxGM75vw0EYad   \n",
       "3           ROSÉ                            APT.  5vNRhkKd0yEAg8suGBpjeY   \n",
       "4  Billie Eilish                      WILDFLOWER  3QaPy1KgI7nu9FJEQUgn6h   \n",
       "5     Gigi Perez                     Sailor Song  2262bWmqomIaJXwCRHr13j   \n",
       "6     The Weeknd  Timeless (feat. Playboi Carti)  1Es7AUAhQvapIcoh3qMKDL   \n",
       "7  Chappell Roan                Good Luck, Babe!  0WbMK4wrZ1wFSty9F7FCgu   \n",
       "8           ROSÉ                            APT.  4wJ5Qq0jBN4ajy7ouZIV1c   \n",
       "9        KAROL G    Si Antes Te Hubiera Conocido  6WatFBLVB0x077xWeoVc2k   \n",
       "\n",
       "   Popularity                                          Image URL  \n",
       "0          99  https://i.scdn.co/image/ab67616d0000b27382ea2e...  \n",
       "1          96  https://i.scdn.co/image/ab67616d0000b27371d62e...  \n",
       "2          95  https://i.scdn.co/image/ab67616d0000b2731dac36...  \n",
       "3          95  https://i.scdn.co/image/ab67616d0000b27336032c...  \n",
       "4          93  https://i.scdn.co/image/ab67616d0000b27371d62e...  \n",
       "5          93  https://i.scdn.co/image/ab67616d0000b273e6065f...  \n",
       "6          92  https://i.scdn.co/image/ab67616d0000b27394f662...  \n",
       "7          92  https://i.scdn.co/image/ab67616d0000b27391b4bc...  \n",
       "8          91  https://i.scdn.co/image/ab67616d0000b2735074bd...  \n",
       "9          91  https://i.scdn.co/image/ab67616d0000b273491678...  "
      ]
     },
     "execution_count": 24,
     "metadata": {},
     "output_type": "execute_result"
    }
   ],
   "source": [
    "track_dataframe = pd.DataFrame({\n",
    "    'Artist': artist_name,\n",
    "    'Track': track_name,\n",
    "    'Track ID': track_id,\n",
    "    'Popularity': popularity,\n",
    "    'Image URL': images\n",
    "})\n",
    "\n",
    "df_sorted = track_dataframe.sort_values(by='Popularity', ascending=False).reset_index(drop=True)\n",
    "\n",
    "df_sorted.head(10)"
   ]
  },
  {
   "cell_type": "code",
   "execution_count": 25,
   "metadata": {},
   "outputs": [
    {
     "data": {
      "image/png": "[encoded data removed]",
      "text/plain": [
       "<Figure size 1200x600 with 1 Axes>"
      ]
     },
     "metadata": {},
     "output_type": "display_data"
    }
   ],
   "source": [
    "artist_counts = track_dataframe['Artist'].value_counts()\n",
    "most_successful_artists = artist_counts.head(10)\n",
    "\n",
    "plt.figure(figsize=(12,6))\n",
    "plt.bar(most_successful_artists.index, most_successful_artists.values, color='purple')\n",
    "plt.xlabel(\"Artist\")\n",
    "plt.ylabel(\"Number of Songs in Top 1000\")\n",
    "plt.title(\"Top Artists with Most Songs in Spotify's 2024 Top 1000\")\n",
    "plt.xticks(rotation=45)\n",
    "plt.show()"
   ]
  }
 ],
 "metadata": {
  "kernelspec": {
   "display_name": "Python 3",
   "language": "python",
   "name": "python3"
  },
  "language_info": {
   "codemirror_mode": {
    "name": "ipython",
    "version": 3
   },
   "file_extension": ".py",
   "mimetype": "text/x-python",
   "name": "python",
   "nbconvert_exporter": "python",
   "pygments_lexer": "ipython3",
   "version": "3.11.9"
  }
 },
 "nbformat": 4,
 "nbformat_minor": 2
}
