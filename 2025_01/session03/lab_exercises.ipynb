{
 "cells": [
  {
   "cell_type": "markdown",
   "metadata": {},
   "source": [
    "#### Before you start, create a repository for this session, as you will be doing code reviews of your exercises, add your team as collaborators\n",
    "✅✅✅✅"
   ]
  },
  {
   "cell_type": "markdown",
   "metadata": {},
   "source": [
    "import pandas as pd"
   ]
  },
  {
   "cell_type": "markdown",
   "metadata": {},
   "source": [
    "#### Exercise 1: import necessary libraries to carry out analysis using pandas and to visualise the dataset [brazilian_amazon_fires_1999_2019.csv](brazilian_amazon_fires_1999_2019.csv)"
   ]
  },
  {
   "cell_type": "code",
   "execution_count": null,
   "metadata": {},
   "outputs": [
    {
     "name": "stdout",
     "output_type": "stream",
     "text": [
      "      year  month        state   latitude  longitude  firespots\n",
      "0     1999      1     AMAZONAS  -2.371113 -59.899933          3\n",
      "1     1999      1     MARANHAO  -2.257395 -45.487831         36\n",
      "2     1999      1  MATO GROSSO -12.660633 -55.057989         18\n",
      "3     1999      1         PARA  -2.474820 -48.546967         87\n",
      "4     1999      1     RONDONIA -12.861700 -60.513100          1\n",
      "...    ...    ...          ...        ...        ...        ...\n",
      "2099  2019     12  MATO GROSSO -12.138385 -56.066297        148\n",
      "2100  2019     12         PARA  -2.976727 -50.909316       1280\n",
      "2101  2019     12     RONDONIA -10.809262 -62.890452         42\n",
      "2102  2019     12      RORAIMA   2.856667 -60.431963         27\n",
      "2103  2019     12    TOCANTINS  -6.769381 -48.475667         21\n",
      "\n",
      "[2104 rows x 6 columns]\n"
     ]
    },
    {
     "data": {
      "text/html": [
       "<div>\n",
       "<style scoped>\n",
       "    .dataframe tbody tr th:only-of-type {\n",
       "        vertical-align: middle;\n",
       "    }\n",
       "\n",
       "    .dataframe tbody tr th {\n",
       "        vertical-align: top;\n",
       "    }\n",
       "\n",
       "    .dataframe thead th {\n",
       "        text-align: right;\n",
       "    }\n",
       "</style>\n",
       "<table border=\"1\" class=\"dataframe\">\n",
       "  <thead>\n",
       "    <tr style=\"text-align: right;\">\n",
       "      <th></th>\n",
       "      <th>year</th>\n",
       "      <th>month</th>\n",
       "      <th>state</th>\n",
       "      <th>latitude</th>\n",
       "      <th>longitude</th>\n",
       "      <th>firespots</th>\n",
       "    </tr>\n",
       "  </thead>\n",
       "  <tbody>\n",
       "    <tr>\n",
       "      <th>0</th>\n",
       "      <td>1999</td>\n",
       "      <td>1</td>\n",
       "      <td>AMAZONAS</td>\n",
       "      <td>-2.371113</td>\n",
       "      <td>-59.899933</td>\n",
       "      <td>3</td>\n",
       "    </tr>\n",
       "    <tr>\n",
       "      <th>1</th>\n",
       "      <td>1999</td>\n",
       "      <td>1</td>\n",
       "      <td>MARANHAO</td>\n",
       "      <td>-2.257395</td>\n",
       "      <td>-45.487831</td>\n",
       "      <td>36</td>\n",
       "    </tr>\n",
       "    <tr>\n",
       "      <th>2</th>\n",
       "      <td>1999</td>\n",
       "      <td>1</td>\n",
       "      <td>MATO GROSSO</td>\n",
       "      <td>-12.660633</td>\n",
       "      <td>-55.057989</td>\n",
       "      <td>18</td>\n",
       "    </tr>\n",
       "    <tr>\n",
       "      <th>3</th>\n",
       "      <td>1999</td>\n",
       "      <td>1</td>\n",
       "      <td>PARA</td>\n",
       "      <td>-2.474820</td>\n",
       "      <td>-48.546967</td>\n",
       "      <td>87</td>\n",
       "    </tr>\n",
       "    <tr>\n",
       "      <th>4</th>\n",
       "      <td>1999</td>\n",
       "      <td>1</td>\n",
       "      <td>RONDONIA</td>\n",
       "      <td>-12.861700</td>\n",
       "      <td>-60.513100</td>\n",
       "      <td>1</td>\n",
       "    </tr>\n",
       "    <tr>\n",
       "      <th>5</th>\n",
       "      <td>1999</td>\n",
       "      <td>1</td>\n",
       "      <td>RORAIMA</td>\n",
       "      <td>3.403225</td>\n",
       "      <td>-60.622853</td>\n",
       "      <td>15</td>\n",
       "    </tr>\n",
       "    <tr>\n",
       "      <th>6</th>\n",
       "      <td>1999</td>\n",
       "      <td>2</td>\n",
       "      <td>AMAPA</td>\n",
       "      <td>-0.155000</td>\n",
       "      <td>-52.683100</td>\n",
       "      <td>1</td>\n",
       "    </tr>\n",
       "    <tr>\n",
       "      <th>7</th>\n",
       "      <td>1999</td>\n",
       "      <td>2</td>\n",
       "      <td>AMAZONAS</td>\n",
       "      <td>-2.763167</td>\n",
       "      <td>-63.429781</td>\n",
       "      <td>43</td>\n",
       "    </tr>\n",
       "    <tr>\n",
       "      <th>8</th>\n",
       "      <td>1999</td>\n",
       "      <td>2</td>\n",
       "      <td>MATO GROSSO</td>\n",
       "      <td>-12.619988</td>\n",
       "      <td>-55.375363</td>\n",
       "      <td>8</td>\n",
       "    </tr>\n",
       "    <tr>\n",
       "      <th>9</th>\n",
       "      <td>1999</td>\n",
       "      <td>2</td>\n",
       "      <td>PARA</td>\n",
       "      <td>-2.150617</td>\n",
       "      <td>-53.509911</td>\n",
       "      <td>285</td>\n",
       "    </tr>\n",
       "  </tbody>\n",
       "</table>\n",
       "</div>"
      ],
      "text/plain": [
       "   year  month        state   latitude  longitude  firespots\n",
       "0  1999      1     AMAZONAS  -2.371113 -59.899933          3\n",
       "1  1999      1     MARANHAO  -2.257395 -45.487831         36\n",
       "2  1999      1  MATO GROSSO -12.660633 -55.057989         18\n",
       "3  1999      1         PARA  -2.474820 -48.546967         87\n",
       "4  1999      1     RONDONIA -12.861700 -60.513100          1\n",
       "5  1999      1      RORAIMA   3.403225 -60.622853         15\n",
       "6  1999      2        AMAPA  -0.155000 -52.683100          1\n",
       "7  1999      2     AMAZONAS  -2.763167 -63.429781         43\n",
       "8  1999      2  MATO GROSSO -12.619988 -55.375363          8\n",
       "9  1999      2         PARA  -2.150617 -53.509911        285"
      ]
     },
     "execution_count": 2,
     "metadata": {},
     "output_type": "execute_result"
    }
   ],
   "source": [
    "\n",
    "df1 = pd.read_csv('brazilian_amazon_fires_1999_2019.csv')\n",
    "print(df1)\n",
    "df1.head(10)"
   ]
  },
  {
   "cell_type": "code",
   "execution_count": 3,
   "metadata": {},
   "outputs": [
    {
     "data": {
      "text/html": [
       "<div>\n",
       "<style scoped>\n",
       "    .dataframe tbody tr th:only-of-type {\n",
       "        vertical-align: middle;\n",
       "    }\n",
       "\n",
       "    .dataframe tbody tr th {\n",
       "        vertical-align: top;\n",
       "    }\n",
       "\n",
       "    .dataframe thead th {\n",
       "        text-align: right;\n",
       "    }\n",
       "</style>\n",
       "<table border=\"1\" class=\"dataframe\">\n",
       "  <thead>\n",
       "    <tr style=\"text-align: right;\">\n",
       "      <th></th>\n",
       "      <th>year</th>\n",
       "      <th>month</th>\n",
       "      <th>state</th>\n",
       "      <th>latitude</th>\n",
       "      <th>longitude</th>\n",
       "      <th>firespots</th>\n",
       "    </tr>\n",
       "  </thead>\n",
       "  <tbody>\n",
       "    <tr>\n",
       "      <th>2101</th>\n",
       "      <td>2019</td>\n",
       "      <td>12</td>\n",
       "      <td>RONDONIA</td>\n",
       "      <td>-10.809262</td>\n",
       "      <td>-62.890452</td>\n",
       "      <td>42</td>\n",
       "    </tr>\n",
       "    <tr>\n",
       "      <th>2102</th>\n",
       "      <td>2019</td>\n",
       "      <td>12</td>\n",
       "      <td>RORAIMA</td>\n",
       "      <td>2.856667</td>\n",
       "      <td>-60.431963</td>\n",
       "      <td>27</td>\n",
       "    </tr>\n",
       "    <tr>\n",
       "      <th>2103</th>\n",
       "      <td>2019</td>\n",
       "      <td>12</td>\n",
       "      <td>TOCANTINS</td>\n",
       "      <td>-6.769381</td>\n",
       "      <td>-48.475667</td>\n",
       "      <td>21</td>\n",
       "    </tr>\n",
       "  </tbody>\n",
       "</table>\n",
       "</div>"
      ],
      "text/plain": [
       "      year  month      state   latitude  longitude  firespots\n",
       "2101  2019     12   RONDONIA -10.809262 -62.890452         42\n",
       "2102  2019     12    RORAIMA   2.856667 -60.431963         27\n",
       "2103  2019     12  TOCANTINS  -6.769381 -48.475667         21"
      ]
     },
     "execution_count": 3,
     "metadata": {},
     "output_type": "execute_result"
    }
   ],
   "source": [
    "df1.tail(3)"
   ]
  },
  {
   "cell_type": "markdown",
   "metadata": {},
   "source": [
    "#### Exercise 2: Load the data and display the first few rows\n"
   ]
  },
  {
   "cell_type": "markdown",
   "metadata": {},
   "source": [
    "#### Exercise 3: Display basic summary statistics and check for missing values\n",
    "\n",
    " tip: [check the documentation](https://pandas.pydata.org/docs/getting_started/intro_tutorials/06_calculate_statistics.html)"
   ]
  },
  {
   "cell_type": "code",
   "execution_count": 4,
   "metadata": {},
   "outputs": [
    {
     "data": {
      "text/html": [
       "<div>\n",
       "<style scoped>\n",
       "    .dataframe tbody tr th:only-of-type {\n",
       "        vertical-align: middle;\n",
       "    }\n",
       "\n",
       "    .dataframe tbody tr th {\n",
       "        vertical-align: top;\n",
       "    }\n",
       "\n",
       "    .dataframe thead th {\n",
       "        text-align: right;\n",
       "    }\n",
       "</style>\n",
       "<table border=\"1\" class=\"dataframe\">\n",
       "  <thead>\n",
       "    <tr style=\"text-align: right;\">\n",
       "      <th></th>\n",
       "      <th>year</th>\n",
       "      <th>month</th>\n",
       "      <th>latitude</th>\n",
       "      <th>longitude</th>\n",
       "      <th>firespots</th>\n",
       "    </tr>\n",
       "  </thead>\n",
       "  <tbody>\n",
       "    <tr>\n",
       "      <th>count</th>\n",
       "      <td>2104.000000</td>\n",
       "      <td>2104.000000</td>\n",
       "      <td>2104.000000</td>\n",
       "      <td>2104.000000</td>\n",
       "      <td>2104.000000</td>\n",
       "    </tr>\n",
       "    <tr>\n",
       "      <th>mean</th>\n",
       "      <td>2009.267110</td>\n",
       "      <td>6.704848</td>\n",
       "      <td>-5.439282</td>\n",
       "      <td>-56.510314</td>\n",
       "      <td>1167.417776</td>\n",
       "    </tr>\n",
       "    <tr>\n",
       "      <th>std</th>\n",
       "      <td>5.963029</td>\n",
       "      <td>3.431949</td>\n",
       "      <td>4.852439</td>\n",
       "      <td>7.382619</td>\n",
       "      <td>2959.558714</td>\n",
       "    </tr>\n",
       "    <tr>\n",
       "      <th>min</th>\n",
       "      <td>1999.000000</td>\n",
       "      <td>1.000000</td>\n",
       "      <td>-14.431908</td>\n",
       "      <td>-73.085000</td>\n",
       "      <td>1.000000</td>\n",
       "    </tr>\n",
       "    <tr>\n",
       "      <th>25%</th>\n",
       "      <td>2004.000000</td>\n",
       "      <td>4.000000</td>\n",
       "      <td>-9.946974</td>\n",
       "      <td>-62.376004</td>\n",
       "      <td>16.000000</td>\n",
       "    </tr>\n",
       "    <tr>\n",
       "      <th>50%</th>\n",
       "      <td>2009.000000</td>\n",
       "      <td>7.000000</td>\n",
       "      <td>-5.808292</td>\n",
       "      <td>-55.876480</td>\n",
       "      <td>121.000000</td>\n",
       "    </tr>\n",
       "    <tr>\n",
       "      <th>75%</th>\n",
       "      <td>2014.000000</td>\n",
       "      <td>10.000000</td>\n",
       "      <td>-2.595169</td>\n",
       "      <td>-50.396154</td>\n",
       "      <td>755.000000</td>\n",
       "    </tr>\n",
       "    <tr>\n",
       "      <th>max</th>\n",
       "      <td>2019.000000</td>\n",
       "      <td>12.000000</td>\n",
       "      <td>4.151000</td>\n",
       "      <td>-44.188000</td>\n",
       "      <td>37926.000000</td>\n",
       "    </tr>\n",
       "  </tbody>\n",
       "</table>\n",
       "</div>"
      ],
      "text/plain": [
       "              year        month     latitude    longitude     firespots\n",
       "count  2104.000000  2104.000000  2104.000000  2104.000000   2104.000000\n",
       "mean   2009.267110     6.704848    -5.439282   -56.510314   1167.417776\n",
       "std       5.963029     3.431949     4.852439     7.382619   2959.558714\n",
       "min    1999.000000     1.000000   -14.431908   -73.085000      1.000000\n",
       "25%    2004.000000     4.000000    -9.946974   -62.376004     16.000000\n",
       "50%    2009.000000     7.000000    -5.808292   -55.876480    121.000000\n",
       "75%    2014.000000    10.000000    -2.595169   -50.396154    755.000000\n",
       "max    2019.000000    12.000000     4.151000   -44.188000  37926.000000"
      ]
     },
     "execution_count": 4,
     "metadata": {},
     "output_type": "execute_result"
    }
   ],
   "source": [
    "df1.describe()"
   ]
  },
  {
   "cell_type": "markdown",
   "metadata": {},
   "source": [
    "#### Exercise 4: Exploratory Data Analysis - Count of firespots by state\n",
    "\n",
    "- Analyze the distribution of firespots across different states."
   ]
  },
  {
   "cell_type": "code",
   "execution_count": 8,
   "metadata": {},
   "outputs": [
    {
     "data": {
      "text/plain": [
       "year         0\n",
       "month        0\n",
       "state        0\n",
       "latitude     0\n",
       "longitude    0\n",
       "firespots    0\n",
       "dtype: int64"
      ]
     },
     "execution_count": 8,
     "metadata": {},
     "output_type": "execute_result"
    }
   ],
   "source": [
    "df1.isnull().sum()"
   ]
  },
  {
   "cell_type": "code",
   "execution_count": null,
   "metadata": {},
   "outputs": [],
   "source": [
    "#grouping the data by 'state' and sum the number of 'firespots'\n",
    "\n",
    "\n",
    "#sorting the results by the number of firespots in descending order\n",
    "\n",
    "#plot the results using a bar plot\n",
    "#remember in the lecture example we used plt.plot for a basic line plot but now we need a bar , follow that example to set color too\n",
    "\n",
    "\n",
    "\n",
    "\n",
    "#show your plot"
   ]
  },
  {
   "cell_type": "code",
   "execution_count": null,
   "metadata": {},
   "outputs": [
    {
     "data": {
      "text/plain": [
       "<Axes: xlabel='state'>"
      ]
     },
     "execution_count": 33,
     "metadata": {},
     "output_type": "execute_result"
    },
    {
     "data": {
      "image/png": "[encoded data removed]",
      "text/plain": [
       "<Figure size 640x480 with 1 Axes>"
      ]
     },
     "metadata": {},
     "output_type": "display_data"
    }
   ],
   "source": [
    "totalstate=df1.groupby('state')['firespots'].sum()\n",
    "state_firespot=totalstate.sort_values( ascending=False)\n",
    "state_firespot.plot.bar()\n",
    "\n"
   ]
  },
  {
   "cell_type": "code",
   "execution_count": null,
   "metadata": {},
   "outputs": [],
   "source": []
  },
  {
   "cell_type": "markdown",
   "metadata": {},
   "source": [
    "### Exercise 5: Code Review your analysis and plot\n",
    "- use github to do this, you can do this on someone else's repository but you will need to **fork** it or be added as collaborator\n",
    "\n",
    "This is a very useful post:\n",
    "\n",
    "[code review on github](https://linearb.io/blog/code-review-on-github)\n",
    "\n",
    "\n",
    "##### Forking a Repository\n",
    "\n",
    "What is Forking? Forking creates a personal copy of someone else's repository under your Git account. It's typically used when you want to contribute to a project that you don't have direct write access to.\n",
    "\n",
    "When to Fork: Contributing to Open Source Projects: If you're contributing to an open-source project or any repository where you don't have write permissions, you'll fork the repository to create your own version that you can work on. Personal Changes: If you want to experiment with or make personal changes to someone else's project without affecting the original project, you fork it.\n",
    "\n",
    "How to Fork: On GitHub (or similar platforms), navigate to the repository you want to contribute to and click the “Fork” button. This creates a copy of the repository under your account.\n",
    "\n",
    "Next Steps After Forking: Clone the Forked Repository: Once you've forked the repository, clone it to your local machine to start working on it.\n",
    "\n",
    "git clone https://github.com/your-username/forked-repo.git\n",
    "\n",
    "\n",
    "Make Changes: After cloning, you can create branches, make changes, and commit them as you would with any other repository.\n",
    "\n",
    "Submit a Pull Request: Once your changes are ready, you can submit a pull request from your forked repository back to the original repository to propose your changes.\n",
    "\n",
    "\n",
    "##### **github code review**\n",
    "\n",
    "**Create a New Branch:**\n",
    "- Start by creating a new branch from your main branch (usually main or master).\n",
    "- Make your changes or implement the new feature in this branch.\n",
    "\n",
    "\n",
    "`git checkout -b my-feature-branch\n",
    "`     \n",
    "\n",
    "**Commit Your Changes:**\n",
    "\n",
    "After making the necessary changes, commit them to your branch.\n",
    "\n",
    "`git add .`\n",
    "`git commit -m \"Implemented feature X\"`\n",
    "\n",
    "     \n",
    "**Push the Branch to Your Repository:**\n",
    "**Push the new branch to your remote repository.**\n",
    "\n",
    "`git push origin my-feature-branch\n",
    "`\n",
    "     \n",
    "**Create a Pull Request:**\n",
    "\n",
    "- Go to your repository on GitHub.\n",
    "- You’ll see an option to create a pull request for the branch you just pushed. Click on it and fill in the PR details.\n",
    "\n",
    "**Review your code:\n",
    "**\n",
    "Once the pull request is created, you can review your changes in the PR interface. This allows you to see a diff of your changes, add comments, and reflect on the code as if you were a reviewer.\n",
    "\n",
    "- explore the code\n",
    "\n",
    "- is there anything you are particularly interested in? they used a different color? you dont understand something? you would like to know more about their choices?\n",
    "\n",
    "You can also take advantage of any automated tests, linting, or CI/CD pipelines you have set up to validate your changes.\n",
    "\n",
    "**Approve and merge the PR:\n",
    "**\n",
    "If you’re satisfied with the review, you can approve and merge the pull request. Alternatively, you can make further changes by pushing additional commits to the same branch.\n",
    "\n",
    "After merging, you can delete the branch if it’s no longer needed.\n",
    "\n",
    "\n",
    "\n",
    "\n"
   ]
  },
  {
   "cell_type": "markdown",
   "metadata": {},
   "source": [
    "#### Exercise 6: Pair programming \n",
    "\n",
    "The task is to show firespost on a map using plotly with OpenStreetMap\n",
    "\n",
    "- with the same dataset, now show the firesposts in a map\n",
    "- you already have access to the data latitude and longitud\n",
    "- since we want to show the data on a map, you will need to use a library that lets you do this in an easy, straighfoward way - matplotlib has geopandas but there are also other libraries \n",
    "- let's use plotly.express   > particularly useful for generating quick, interactive plots with minimal code.\n",
    "- you will need to install plotly\n",
    "\n",
    "- check the documentation for guide \n",
    "[https://plotly.com/python/mapbox-density-heatmaps/](https://plotly.com/python/mapbox-density-heatmaps/)\n"
   ]
  },
  {
   "cell_type": "code",
   "execution_count": null,
   "metadata": {},
   "outputs": [],
   "source": [
    "#import libraries\n",
    "\n",
    "\n",
    "#load data\n",
    "\n",
    "#create density mapbox\n",
    "\n",
    "\n",
    "#display map"
   ]
  },
  {
   "cell_type": "markdown",
   "metadata": {},
   "source": []
  }
 ],
 "metadata": {
  "kernelspec": {
   "display_name": "Python 3",
   "language": "python",
   "name": "python3"
  },
  "language_info": {
   "codemirror_mode": {
    "name": "ipython",
    "version": 3
   },
   "file_extension": ".py",
   "mimetype": "text/x-python",
   "name": "python",
   "nbconvert_exporter": "python",
   "pygments_lexer": "ipython3",
   "version": "3.11.9"
  }
 },
 "nbformat": 4,
 "nbformat_minor": 2
}
